{
 "cells": [
  {
   "cell_type": "code",
   "execution_count": 1,
   "metadata": {},
   "outputs": [],
   "source": [
    "import pandas as pd\n",
    "import matplotlib.pyplot as plt\n",
    "import seaborn as sns\n"
   ]
  },
  {
   "cell_type": "code",
   "execution_count": 2,
   "metadata": {},
   "outputs": [],
   "source": [
    "TEMP_LOW_LIMIT = -459.67\n",
    "TEMP_HIGH_LIMIT = 1000\n",
    "RPM_LOW_LIMIT = 0\n",
    "RPM_HIGH_LIMIT = 6e8  # the largest achieved rpm of all human artifacts\n",
    "\n",
    "def exclude_physical_anml(df):\n",
    "    result = df[(df['motor_temp'] > TEMP_LOW_LIMIT) & (df['inlet_temp'] > TEMP_LOW_LIMIT) & (df['rpm'] > 0) & (df['rpm'] < RPM_HIGH_LIMIT)]\n",
    "    return result\n",
    "\n",
    "def peek_attributes_trend(attribute, ylim_low=-10, ylim_high=1500):\n",
    "    units = [\"000{}\".format(num) if num < 10 else \"00{}\".format(num) for num in random.sample(range(0, 20), 9)]\n",
    "    file_names = [\"../data/raw/train/unit{}_rms.csv\".format(unit) for unit in units]\n",
    "    sns.set()\n",
    "    f, axs = plt.subplots(3, 3, figsize=(20, 12))\n",
    "    for idx, file_name in enumerate(file_names):\n",
    "        file_df = pd.read_csv(file_name)\n",
    "        file_df = exclude_physical_anml(file_df)\n",
    "        ax1 = plt.subplot(3, 3, idx + 1)\n",
    "        file_df[attribute].plot(ylim=(ylim_low, ylim_high))\n",
    "    plt.show()"
   ]
  },
  {
   "cell_type": "code",
   "execution_count": null,
   "metadata": {},
   "outputs": [],
   "source": []
  }
 ],
 "metadata": {
  "kernelspec": {
   "display_name": "Python 3",
   "language": "python",
   "name": "python3"
  },
  "language_info": {
   "codemirror_mode": {
    "name": "ipython",
    "version": 3
   },
   "file_extension": ".py",
   "mimetype": "text/x-python",
   "name": "python",
   "nbconvert_exporter": "python",
   "pygments_lexer": "ipython3",
   "version": "3.8.0"
  }
 },
 "nbformat": 4,
 "nbformat_minor": 2
}
