{
 "cells": [
  {
   "cell_type": "code",
   "execution_count": 1,
   "metadata": {},
   "outputs": [],
   "source": [
    "import pandas as pd\n",
    "import matplotlib.pyplot as plt\n",
    "import seaborn as sns\n",
    "\n",
    "TEMP_LOW_LIMIT = -459.67\n",
    "TEMP_HIGH_LIMIT = 1000\n",
    "VALUE_LIMITS = {\n",
    "    'rpm': (0, 6e8), # the largest achieved rpm of all human artifacts\n",
    "    'motor_temp': (TEMP_LOW_LIMIT, TEMP_HIGH_LIMIT),\n",
    "    'inlet_temp': (TEMP_LOW_LIMIT, TEMP_HIGH_LIMIT),\n",
    "    \n",
    "}\n",
    "\n",
    "RPM_HIGH_LIMIT = 6e8 \n",
    "RPM_LOW_LIMIT = 0"
   ]
  },
  {
   "cell_type": "code",
   "execution_count": null,
   "metadata": {},
   "outputs": [],
   "source": [
    "def exclude_value_anml(df):\n",
    "    result = df[(df['motor_temp'] > TEMP_LOW_LIMIT) & (df['motor_temp'] < TEMP_HIGH_LIMIT) & (df['inlet_temp'] > TEMP_LOW_LIMIT) & (df['inlet_temp'] < TEMP_HIGH_LIMIT)]\n",
    "    result = result[(result['motor_temp'] > TEMP_LOW_LIMIT) & (df['motor_temp'] < TEMP_HIGH_LIMIT) & (df['inlet_temp'] > TEMP_LOW_LIMIT) & (df['inlet_temp'] < TEMP_HIGH_LIMIT)]\n"
   ]
  }
 ],
 "metadata": {
  "kernelspec": {
   "display_name": "Python 3",
   "language": "python",
   "name": "python3"
  },
  "language_info": {
   "codemirror_mode": {
    "name": "ipython",
    "version": 3
   },
   "file_extension": ".py",
   "mimetype": "text/x-python",
   "name": "python",
   "nbconvert_exporter": "python",
   "pygments_lexer": "ipython3",
   "version": "3.8.0"
  }
 },
 "nbformat": 4,
 "nbformat_minor": 2
}
